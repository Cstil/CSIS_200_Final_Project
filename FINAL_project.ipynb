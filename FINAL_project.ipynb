{
 "cells": [
  {
   "cell_type": "markdown",
   "metadata": {},
   "source": [
    "\n",
    "\n",
    "**Can you escape a velociraptor?**\n",
    "\n",
    "Your goal is to figure out whether or not a velociraptor will catch you or if you can outrun it!\n",
    "\n",
    "## Problem 1. Position vs. time\n",
    "\n",
    "Suppose a velociraptor can run 18 m/s. And suppose you can run at 3 m/s, but you have a 30 meter head start. Assume that you and the 'raptor accelerate so quickly that you can ignore acceleration. \n",
    "\n",
    "Make a plot of the position vs. time for both you and the 'raptor (plot both on the same figure). Clearly label all axes and give the plot a legend. Plot over a suitable time frame. Save the figure as a .png file. \n",
    "\n",
    "*This plot will be included in your write-up*."
   ]
  },
  {
   "cell_type": "code",
   "execution_count": 8,
   "metadata": {
    "collapsed": false
   },
   "outputs": [
    {
     "data": {
      "image/png": "[encoded data removed]",
      "text/plain": [
       "<matplotlib.figure.Figure at 0xa658cf8>"
      ]
     },
     "metadata": {},
     "output_type": "display_data"
    }
   ],
   "source": [
    "# Your code here. \n",
    "import matplotlib.pylab as plt\n",
    "import matplotlib.pyplot\n",
    "import numpy as np\n",
    "%matplotlib inline\n",
    "\n",
    "t = np.linspace(0,10,10001)\n",
    "\n",
    "y1 = 18.0*t\n",
    "y2 = (3.0*t)+30.0\n",
    "\n",
    "plt.plot(t,y1,label='Velociraptor')\n",
    "plt.plot(t,y2,label='Human Position')\n",
    "\n",
    "plt.xlabel('Time (s)',fontsize=18)\n",
    "plt.ylabel('Position (m)',fontsize=18)\n",
    "\n",
    "plt.xlim(0,10)\n",
    "plt.ylim(0,100)\n",
    "\n",
    "plt.title(\"Coley: Position vs Time\")\n",
    "\n",
    "plt.legend()\n",
    "plt.savefig('Position_vs_Time.png')\n"
   ]
  },
  {
   "cell_type": "markdown",
   "metadata": {},
   "source": [
    "## Problem 2. When does the 'raptor catch up to you?\n",
    "\n",
    "Use your code to figure out when the raptor catches up to you. Both how much time has passed and how far *you* have run.  \n",
    "\n",
    "Do not just get this information off the graph. Use your Python code to figure this out! Getting the information just by looking at the plot will result in a 0 for this question. You can use an analytic approach (algebra) to check your answer, but that is not the approach I want you to use. Depending on how you write your code, you might not get an *exact* answer, but you should find a way to get pretty close to the algebraic solution. "
   ]
  },
  {
   "cell_type": "code",
   "execution_count": 2,
   "metadata": {
    "collapsed": false
   },
   "outputs": [
    {
     "name": "stdout",
     "output_type": "stream",
     "text": [
      "The raptor catches up to you in 2 seconds.\n",
      "The raptor catches up to you after you travel 6 meters.\n"
     ]
    }
   ],
   "source": [
    "# Your code here.\n",
    "def collision(k1,k2,t):\n",
    "    for x in range(0,10000): \n",
    "        if k1[x] == k2[x]:\n",
    "            return t[x],k1[x]-30\n",
    "    return 0,0\n",
    "\n",
    "time,d = collision(y1,y2,t)\n",
    "print \"The raptor catches up to you in %d seconds.\" % time\n",
    "print \"The raptor catches up to you after you travel %d meters.\" % d\n"
   ]
  },
  {
   "cell_type": "markdown",
   "metadata": {},
   "source": [
    "## Problem 3. When is it close enough to strike?\n",
    "\n",
    "It turns out the 'raptor will start trying to attack when it is 1 meter away. How much time has passed and how far have you run when it is 1 meter behind you? Use a similar approach as the last problem. \n",
    "\n",
    "***Also make a new copy of the above plot, but label (with a line or arrow or whatever you want) the point at which the raptor is 1 meter behind you.***"
   ]
  },
  {
   "cell_type": "code",
   "execution_count": 7,
   "metadata": {
    "collapsed": false
   },
   "outputs": [
    {
     "name": "stdout",
     "output_type": "stream",
     "text": [
      "The raptor will start trying to attack you in 1.93 seconds.\n",
      "The raptor will start trying to attack you after you travel 5.80 meters\n"
     ]
    },
    {
     "data": {
      "image/png": "[encoded data removed]",
      "text/plain": [
       "<matplotlib.figure.Figure at 0xa64c710>"
      ]
     },
     "metadata": {},
     "output_type": "display_data"
    }
   ],
   "source": [
    "# Your code here. \n",
    "def almost_collision(k1,k2,t):\n",
    "    for x in range(0,10000): \n",
    "        if k2[x] - k1[x] < 1 :\n",
    "            return t[x],k2[x]-30\n",
    "    \n",
    "time,d = almost_collision(y1,y2,t)\n",
    "print \"The raptor will start trying to attack you in %.2f seconds.\" %time\n",
    "print \"The raptor will start trying to attack you after you travel %.2f meters\" %d\n",
    "\n",
    "#t = np.linspace(0,10,1001)\n",
    "#y0 = t\n",
    "y1 = 18.0*t\n",
    "y2 = (3.0*t)+30.0\n",
    "y3 = time\n",
    "y4 = d\n",
    "plt.figure()\n",
    "\n",
    "plt.plot(t,y1,label='Velociraptor')\n",
    "plt.plot(t,y2,label='Human Position')\n",
    "plt.plot([time,time],[0,60],label='Striking Distance')\n",
    "#plt.plot(time,d,'ro',markersize=3,label='Striking Distance')\n",
    "\n",
    "plt.xlabel('Time (s)',fontsize=18)\n",
    "plt.ylabel('Position (m)',fontsize=18)\n",
    "\n",
    "plt.xlim(0,2.5)\n",
    "plt.ylim(0,60)\n",
    "\n",
    "plt.title(\"Coley: Position vs Time\")\n",
    "\n",
    "plt.legend()\n",
    "plt.savefig('Position_vs_Time_Striking.png')"
   ]
  },
  {
   "cell_type": "markdown",
   "metadata": {},
   "source": [
    "## Problem 4. Will it bite you?\n",
    "\n",
    "When the 'raptor is 1 meter away, it will try to bite you. If it doesn't bite you, it will try a second and (if necessary) a third time. If it doesn't get you on the third try, it will grow frustrated and stop chasing you. Hurray!\n",
    "\n",
    "Suppose the first time it tries, there is a 20% chance it will bite you. If it misses and it needs to try a second time, there is only a 15% chance, and if it misses *that* time, there is only a 7% chance on the third try. \n",
    "\n",
    "If it bites you once, you're 'raptor food. If it misses all three times, you get away!\n",
    "\n",
    "What is the probability that you will get away?\n"
   ]
  },
  {
   "cell_type": "code",
   "execution_count": 5,
   "metadata": {
    "collapsed": false
   },
   "outputs": [
    {
     "name": "stdout",
     "output_type": "stream",
     "text": [
      "63.7\n",
      "The probilbity that you will survive is 63.70 percent\n"
     ]
    }
   ],
   "source": [
    "# Your code here\n",
    "npts = 1000 # The number of data points\n",
    "x = np.random.random(1)\n",
    "s = 0\n",
    "for i in range(0,1000):\n",
    "    \n",
    "    x = np.random.random(1)\n",
    "    if x[0] > .2:\n",
    "        #print \"It misses the first chomp!\"\n",
    "        x = np.random.random(1)\n",
    "        if x[0] > .15:\n",
    "            #print \"It misses the second chomp!\"\n",
    "            x = np.random.random(1)\n",
    "            if x[0] > .07:\n",
    "                #print \"You made it!\" \n",
    "                s = s + 1\n",
    "            else:\n",
    "                y=0#print \"You got bitten on the last chomp attempt!\"\n",
    "        else:\n",
    "            y=0#print \"You got bitten on the second chomp!\"\n",
    "    else:\n",
    "        y=0#print \"You got bitten on the first chomp!\"\n",
    "       \n",
    "p = (s/1000.0)*100.0        \n",
    "print p\n",
    "print \"The probilbity that you will survive is %.2f percent\" % p\n",
    "# succes/number of attemps = p"
   ]
  },
  {
   "cell_type": "code",
   "execution_count": null,
   "metadata": {
    "collapsed": true
   },
   "outputs": [],
   "source": []
  },
  {
   "cell_type": "code",
   "execution_count": null,
   "metadata": {
    "collapsed": true
   },
   "outputs": [],
   "source": []
  },
  {
   "cell_type": "code",
   "execution_count": null,
   "metadata": {
    "collapsed": true
   },
   "outputs": [],
   "source": []
  }
 ],
 "metadata": {
  "kernelspec": {
   "display_name": "Python 2",
   "language": "python",
   "name": "python2"
  },
  "language_info": {
   "codemirror_mode": {
    "name": "ipython",
    "version": 2
   },
   "file_extension": ".py",
   "mimetype": "text/x-python",
   "name": "python",
   "nbconvert_exporter": "python",
   "pygments_lexer": "ipython2",
   "version": "2.7.10"
  }
 },
 "nbformat": 4,
 "nbformat_minor": 0
}
